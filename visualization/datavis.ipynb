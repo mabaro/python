{
 "cells": [
  {
   "cell_type": "code",
   "execution_count": null,
   "id": "e44cf93c-33bf-4ce3-83e3-796d9d8f21cc",
   "metadata": {
    "metadata": {}
   },
   "outputs": [],
   "source": [
    "import pandas as pd\n",
    "import matplotlib.pyplot as plot\n",
    "\n"
   ]
  },
  {
   "cell_type": "code",
   "execution_count": null,
   "id": "7cc1bd31-b326-4bfe-95e9-fff76ea28a6f",
   "metadata": {
    "metadata": {}
   },
   "outputs": [],
   "source": [
    "df = pd.read_csv(\"samples.csv\")\n",
    "df.head()"
   ]
  },
  {
   "cell_type": "code",
   "execution_count": null,
   "id": "7b46723c-110a-4e41-8d77-46e80b532b53",
   "metadata": {
    "metadata": {}
   },
   "outputs": [],
   "source": [
    "dataX = df.seconds\n",
    "dataY = df.temperature\n",
    "plot.scatter(dataX,dataY, color='blue')\n",
    "plot.plot(dataX,dataY, color='green', marker='+', linestyle='dashed', linewidth=2, markersize=12)"
   ]
  },
  {
   "cell_type": "code",
   "execution_count": null,
   "id": "6da93499-142a-4cf1-a645-53f7ca6eabf7",
   "metadata": {
    "metadata": {}
   },
   "outputs": [],
   "source": [
    "df2 = df.copy()\n",
    "df2['temperature'] = df2['temperature'].transform(lambda x: x + 1.015*x)\n",
    "\n",
    "xName = 'seconds'\n",
    "yName = 'temperature'\n",
    "plot.plot(xName, yName, data=df, color='green', marker='+', linewidth=1, markersize=5, label='line1')\n",
    "plot.plot(xName, yName, data=df2, color='blue', marker='*', linewidth=1, markersize=5, label='line2')\n",
    "\n",
    "#plot.show()\n",
    "#plot.savefig(\"sampledata.png\")\n",
    "plot.savefig(\"myImagePDF.pdf\", format=\"pdf\", bbox_inches=\"tight\")"
   ]
  }
 ],
 "metadata": {
  "kernelspec": {
   "display_name": "Python 3 (ipykernel)",
   "language": "python",
   "name": "python3"
  },
  "language_info": {
   "codemirror_mode": {
    "name": "ipython",
    "version": 3
   },
   "file_extension": ".py",
   "mimetype": "text/x-python",
   "name": "python",
   "nbconvert_exporter": "python",
   "pygments_lexer": "ipython3",
   "version": "3.11.2"
  }
 },
 "nbformat": 4,
 "nbformat_minor": 5
}
