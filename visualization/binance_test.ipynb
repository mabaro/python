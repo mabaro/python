{
 "cells": [
  {
   "cell_type": "code",
   "execution_count": 1,
   "id": "68124e9d-52aa-4cbe-aa8d-90f287e893a8",
   "metadata": {
    "metadata": {}
   },
   "outputs": [],
   "source": [
    "#\n",
    "# export key/secret as environment variables in order to make them accessible\n",
    "#\n",
    "import time\n",
    "from datetime import date\n",
    "import hashlib\n",
    "import requests\n",
    "import hmac\n",
    "from datetime import datetime\n",
    "from urllib.parse import urlencode\n",
    "import os\n",
    "\n",
    "KEY = \"\"\n",
    "SECRET = \"\"\n",
    "BASE_URL = \"https://api.binance.com\"  # production base url\n",
    "# BASE_URL = 'https://testnet.binance.vision' # testnet base url\n",
    "\n",
    "def hashing(query_string):\n",
    "    return hmac.new(\n",
    "        SECRET.encode(\"utf-8\"), query_string.encode(\"utf-8\"), hashlib.sha256\n",
    "    ).hexdigest()\n",
    "\n",
    "def get_timestamp():\n",
    "    return int(time.time() * 1000)\n",
    "\n",
    "def to_datetime(timestamp):\n",
    "    return datetime.fromtimestamp(timestamp / 1000)\n",
    "\n",
    "def to_timestamp(datetime):\n",
    "    return int(datetime.timestamp() * 1000)\n",
    "\n",
    "def send_signed_request(http_method, url_path, payload={}):\n",
    "    query_string = urlencode(payload, True)\n",
    "    if query_string:\n",
    "        query_string = \"{}&timestamp={}\".format(query_string, get_timestamp())\n",
    "    else:\n",
    "        query_string = \"timestamp={}\".format(get_timestamp())\n",
    "\n",
    "    url = (\n",
    "        BASE_URL + url_path + \"?\" + query_string + \"&signature=\" + hashing(query_string)\n",
    "    )\n",
    "    #print(\"{} {}\".format(http_method, url))\n",
    "    params = {\"url\": url, \"params\": {}}\n",
    "    response = dispatch_request(http_method)(**params)\n",
    "    return response.json()\n",
    "\n",
    "def send_public_request(url_path, payload={}):\n",
    "    query_string = urlencode(payload, True)\n",
    "    url = BASE_URL + url_path\n",
    "    if query_string:\n",
    "        url = url + \"?\" + query_string\n",
    "    #print(\"{}\".format(url))\n",
    "    response = dispatch_request(\"GET\")(url=url)\n",
    "    return response.json()\n",
    "\n",
    "def dispatch_request(http_method):\n",
    "    session = requests.Session()\n",
    "    session.headers.update(\n",
    "        {\"Content-Type\": \"application/json;charset=utf-8\", \"X-MBX-APIKEY\": KEY}\n",
    "    )\n",
    "    return {\n",
    "        \"GET\": session.get,\n",
    "        \"DELETE\": session.delete,\n",
    "        \"PUT\": session.put,\n",
    "        \"POST\": session.post,\n",
    "    }.get(http_method, \"GET\")"
   ]
  },
  {
   "cell_type": "code",
   "execution_count": 2,
   "id": "1a1b4386-4264-402d-82e3-9e5c73d66b05",
   "metadata": {
    "metadata": {}
   },
   "outputs": [],
   "source": [
    "def get_day_price(ticker, datetime):\n",
    "    timestamp = to_timestamp(datetime)\n",
    "    response = send_public_request(\"/api/v3/klines\", \n",
    "                               {\"symbol\": ticker,\n",
    "                                \"startTime\": timestamp,\n",
    "                                \"endTime\": timestamp+24*3600*1000,\n",
    "                                \"interval\": \"1d\"\n",
    "                               })\n",
    "    return response[0][4]\n",
    "\n",
    "def get_staking_position():\n",
    "    return send_signed_request(\"GET\", \"/sapi/v1/staking/position\")\n",
    "def get_staking_record():\n",
    "    return send_signed_request(\"GET\", \"/sapi/v1/staking/stakingRecord\")\n"
   ]
  },
  {
   "cell_type": "code",
   "execution_count": 3,
   "id": "1e9e34fc-01bf-44b2-bd82-24bac75cb147",
   "metadata": {
    "metadata": {}
   },
   "outputs": [
    {
     "ename": "AttributeError",
     "evalue": "'NoneType' object has no attribute 'encode'",
     "output_type": "error",
     "traceback": [
      "\u001b[0;31m---------------------------------------------------------------------------\u001b[0m",
      "\u001b[0;31mAttributeError\u001b[0m                            Traceback (most recent call last)",
      "Cell \u001b[0;32mIn[3], line 9\u001b[0m\n\u001b[1;32m      6\u001b[0m     BASE_URL \u001b[38;5;241m=\u001b[39m \u001b[38;5;124m\"\u001b[39m\u001b[38;5;124mhttps://api.binance.com\u001b[39m\u001b[38;5;124m\"\u001b[39m  \u001b[38;5;66;03m# production base url\u001b[39;00m\n\u001b[1;32m      7\u001b[0m     \u001b[38;5;66;03m# BASE_URL = 'https://testnet.binance.vision' # testnet base url\u001b[39;00m\n\u001b[0;32m----> 9\u001b[0m response \u001b[38;5;241m=\u001b[39m \u001b[43msend_signed_request\u001b[49m\u001b[43m(\u001b[49m\u001b[38;5;124;43m\"\u001b[39;49m\u001b[38;5;124;43mGET\u001b[39;49m\u001b[38;5;124;43m\"\u001b[39;49m\u001b[43m,\u001b[49m\u001b[43m \u001b[49m\u001b[38;5;124;43m\"\u001b[39;49m\u001b[38;5;124;43m/sapi/v1/capital/deposit/hisrec\u001b[39;49m\u001b[38;5;124;43m\"\u001b[39;49m\u001b[43m,\u001b[49m\u001b[43m \u001b[49m\u001b[43m{\u001b[49m\u001b[38;5;124;43m'\u001b[39;49m\u001b[38;5;124;43mstartDate\u001b[39;49m\u001b[38;5;124;43m'\u001b[39;49m\u001b[43m:\u001b[49m\u001b[43m \u001b[49m\u001b[43mdatetime\u001b[49m\u001b[43m(\u001b[49m\u001b[38;5;241;43m2023\u001b[39;49m\u001b[43m,\u001b[49m\u001b[43m \u001b[49m\u001b[38;5;241;43m1\u001b[39;49m\u001b[43m,\u001b[49m\u001b[43m \u001b[49m\u001b[38;5;241;43m1\u001b[39;49m\u001b[43m)\u001b[49m\u001b[43m}\u001b[49m\u001b[43m)\u001b[49m\n\u001b[1;32m     10\u001b[0m \u001b[38;5;66;03m#response = send_signed_request(\"GET\", \"/sapi/v1/eth-staking/eth/history/stakingHistory\")\u001b[39;00m\n\u001b[1;32m     11\u001b[0m \u001b[38;5;66;03m# response = send_signed_request(\"GET\", \"/sapi/v1/btc-staking/btc/history/stakingHistory\")\u001b[39;00m\n\u001b[1;32m     12\u001b[0m \u001b[38;5;28mprint\u001b[39m(response)\n",
      "Cell \u001b[0;32mIn[1], line 40\u001b[0m, in \u001b[0;36msend_signed_request\u001b[0;34m(http_method, url_path, payload)\u001b[0m\n\u001b[1;32m     36\u001b[0m \u001b[38;5;28;01melse\u001b[39;00m:\n\u001b[1;32m     37\u001b[0m     query_string \u001b[38;5;241m=\u001b[39m \u001b[38;5;124m\"\u001b[39m\u001b[38;5;124mtimestamp=\u001b[39m\u001b[38;5;132;01m{}\u001b[39;00m\u001b[38;5;124m\"\u001b[39m\u001b[38;5;241m.\u001b[39mformat(get_timestamp())\n\u001b[1;32m     39\u001b[0m url \u001b[38;5;241m=\u001b[39m (\n\u001b[0;32m---> 40\u001b[0m     BASE_URL \u001b[38;5;241m+\u001b[39m url_path \u001b[38;5;241m+\u001b[39m \u001b[38;5;124m\"\u001b[39m\u001b[38;5;124m?\u001b[39m\u001b[38;5;124m\"\u001b[39m \u001b[38;5;241m+\u001b[39m query_string \u001b[38;5;241m+\u001b[39m \u001b[38;5;124m\"\u001b[39m\u001b[38;5;124m&signature=\u001b[39m\u001b[38;5;124m\"\u001b[39m \u001b[38;5;241m+\u001b[39m \u001b[43mhashing\u001b[49m\u001b[43m(\u001b[49m\u001b[43mquery_string\u001b[49m\u001b[43m)\u001b[49m\n\u001b[1;32m     41\u001b[0m )\n\u001b[1;32m     42\u001b[0m \u001b[38;5;66;03m#print(\"{} {}\".format(http_method, url))\u001b[39;00m\n\u001b[1;32m     43\u001b[0m params \u001b[38;5;241m=\u001b[39m {\u001b[38;5;124m\"\u001b[39m\u001b[38;5;124murl\u001b[39m\u001b[38;5;124m\"\u001b[39m: url, \u001b[38;5;124m\"\u001b[39m\u001b[38;5;124mparams\u001b[39m\u001b[38;5;124m\"\u001b[39m: {}}\n",
      "Cell \u001b[0;32mIn[1], line 20\u001b[0m, in \u001b[0;36mhashing\u001b[0;34m(query_string)\u001b[0m\n\u001b[1;32m     18\u001b[0m \u001b[38;5;28;01mdef\u001b[39;00m \u001b[38;5;21mhashing\u001b[39m(query_string):\n\u001b[1;32m     19\u001b[0m     \u001b[38;5;28;01mreturn\u001b[39;00m hmac\u001b[38;5;241m.\u001b[39mnew(\n\u001b[0;32m---> 20\u001b[0m         \u001b[43mSECRET\u001b[49m\u001b[38;5;241;43m.\u001b[39;49m\u001b[43mencode\u001b[49m(\u001b[38;5;124m\"\u001b[39m\u001b[38;5;124mutf-8\u001b[39m\u001b[38;5;124m\"\u001b[39m), query_string\u001b[38;5;241m.\u001b[39mencode(\u001b[38;5;124m\"\u001b[39m\u001b[38;5;124mutf-8\u001b[39m\u001b[38;5;124m\"\u001b[39m), hashlib\u001b[38;5;241m.\u001b[39msha256\n\u001b[1;32m     21\u001b[0m     )\u001b[38;5;241m.\u001b[39mhexdigest()\n",
      "\u001b[0;31mAttributeError\u001b[0m: 'NoneType' object has no attribute 'encode'"
     ]
    }
   ],
   "source": [
    "useLocalOrRemoteData = False\n",
    "\n",
    "if not useLocalOrRemoteData:\n",
    "    KEY = os.environ.get('somekey1')\n",
    "    SECRET = os.environ.get('somekey2')\n",
    "    BASE_URL = \"https://api.binance.com\"  # production base url\n",
    "    # BASE_URL = 'https://testnet.binance.vision' # testnet base url\n",
    "\n",
    "response = send_signed_request(\"GET\", \"/sapi/v1/capital/deposit/hisrec\", {'startDate': datetime(2023, 1, 1)})\n",
    "#response = send_signed_request(\"GET\", \"/sapi/v1/eth-staking/eth/history/stakingHistory\")\n",
    "# response = send_signed_request(\"GET\", \"/sapi/v1/btc-staking/btc/history/stakingHistory\")\n",
    "print(response)\n",
    "#response = send_signed_request(\"GET\", \"/sapi/v1/staking/position\")\n",
    "#print(response)"
   ]
  },
  {
   "cell_type": "code",
   "execution_count": null,
   "id": "6bc657b3-05b7-44e0-8380-6c89fe4cee07",
   "metadata": {
    "metadata": {}
   },
   "outputs": [],
   "source": [
    "    \n",
    "#response = send_signed_request(\"GET\", \"/api/v3/account\")\n",
    "#print(response)\n",
    "#print(get_day_price(\"BTCUSDT\", datetime(2023, 1, 1)))\n",
    "#print(get_staking_position())\n",
    "#print(get_staking_record())\n",
    "      \n",
    "# get klines\n",
    "beginTime = to_timestamp( datetime(2023, 1, 1))\n",
    "endTime = to_timestamp( datetime(2023, 2, 1))\n",
    "response = send_public_request(\"/api/v3/klines\", \n",
    "                               {\"symbol\": \"BTCUSDT\",\n",
    "                                \"startTime\": beginTime,\n",
    "                                \"endTime\": endTime,\n",
    "                                \"interval\": \"1d\"})\n",
    "print(response)\n",
    "\n",
    "import pandas as pd\n",
    "import matplotlib.pyplot as plot\n",
    "\n",
    "df = pd.DataFrame(response, columns=[\n",
    "    'Open time',\n",
    "    \"Open\",\n",
    "    \"High\",\n",
    "    \"Low\",\n",
    "    \"Close\",\n",
    "    \"Volume\",\n",
    "    \"Close time\",\n",
    "    \"Quote volume\",\n",
    "    \"Number of trades\",# of trades\"\n",
    "    \"Taker base volume\",# volume\",  #\"buy base asset volume\",\n",
    "    \"Taker quote volume\",# volume\", #\"buy quote asset volume\", \n",
    "    \"Ignore\"\n",
    "    ]\n",
    ")\n",
    "\n",
    "def row_to_float(df):\n",
    "    return df.transform(lambda x: float(x))\n",
    "\n",
    "dataX = df[\"Open time\"].transform(lambda x: to_datetime(x))\n",
    "plot.plot(dataX,row_to_float(df[\"High\"]), color='green', linewidth=1)\n",
    "plot.xticks(rotation=45, ha='right')\n",
    "plot.plot(dataX,row_to_float(df[\"Low\"]), color='red', linewidth=1)\n",
    "plot.plot(dataX,row_to_float(df[\"Close\"]), color='blue', linewidth=1)\n"
   ]
  },
  {
   "cell_type": "code",
   "execution_count": null,
   "id": "e453fba5-b320-4bd2-8665-836898705aee",
   "metadata": {},
   "outputs": [],
   "source": [
    "pd = pd.Dataframe"
   ]
  },
  {
   "cell_type": "code",
   "execution_count": null,
   "id": "091294e1-b1cb-4d78-b8c9-b4c094c57ba5",
   "metadata": {},
   "outputs": [],
   "source": []
  },
  {
   "cell_type": "code",
   "execution_count": null,
   "id": "b047822e-a832-4b97-b3bf-fcb96cb427e3",
   "metadata": {},
   "outputs": [],
   "source": []
  },
  {
   "cell_type": "code",
   "execution_count": null,
   "id": "e79e6c5b-4799-4409-8ba2-70d24debebdd",
   "metadata": {},
   "outputs": [],
   "source": []
  },
  {
   "cell_type": "code",
   "execution_count": null,
   "id": "3961ad9a-90af-4cd2-afca-c6ec2f2c2c29",
   "metadata": {},
   "outputs": [],
   "source": []
  }
 ],
 "metadata": {
  "kernelspec": {
   "display_name": "Python 3 (ipykernel)",
   "language": "python",
   "name": "python3"
  },
  "language_info": {
   "codemirror_mode": {
    "name": "ipython",
    "version": 3
   },
   "file_extension": ".py",
   "mimetype": "text/x-python",
   "name": "python",
   "nbconvert_exporter": "python",
   "pygments_lexer": "ipython3",
   "version": "3.11.2"
  }
 },
 "nbformat": 4,
 "nbformat_minor": 5
}
