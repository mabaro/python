{
 "cells": [
  {
   "cell_type": "code",
   "execution_count": null,
   "id": "e44cf93c-33bf-4ce3-83e3-796d9d8f21cc",
   "metadata": {},
   "outputs": [],
   "source": [
    "# https://medium.com/@mijanr/reading-and-plotting-historical-crypto-data-using-binance-api-with-python-c02a436c0307\n",
    "import pandas as pd\n",
    "import matplotlib.pyplot as plot\n",
    "\n",
    "import datetime\n",
    "\n",
    "useLocalOrRemoteData = False\n",
    "\n",
    "# Define the start and end times for the data\n",
    "end_time = datetime.datetime.now()\n",
    "start_time = end_time - datetime.timedelta(days=365)\n",
    "\n",
    "# Convert the times to Unix timestamps in milliseconds\n",
    "start_timestamp = int(start_time.timestamp() * 1000)\n",
    "end_timestamp = int(end_time.timestamp() * 1000)"
   ]
  },
  {
   "cell_type": "code",
   "execution_count": null,
   "id": "7cc1bd31-b326-4bfe-95e9-fff76ea28a6f",
   "metadata": {},
   "outputs": [],
   "source": [
    "from binance.client import Client\n",
    "import binance\n",
    "import os\n",
    "\n",
    "if not useLocalOrRemoteData:\n",
    "    api_key = os.environ.get('somekey1')\n",
    "    api_secret = os.environ.get('somekey2')\n",
    "\n",
    "    client = Client(api_key, api_secret)\n",
    "    clientData = client.get_account()\n",
    "    balances = clientData[\"balances\"] # this is the table we're interested in\n",
    "    # print(balances)"
   ]
  },
  {
   "cell_type": "code",
   "execution_count": null,
   "id": "ac07c887",
   "metadata": {},
   "outputs": [],
   "source": [
    "import json \n",
    "\n",
    "if useLocalOrRemoteData:\n",
    "    # reading the data from the file \n",
    "    with open('account.json') as f: \n",
    "        data = f.read().replace('\\'', '\\\"').replace(\"True\", \"\\\"True\\\"\").replace(\"False\", \"\\\"False\\\"\") \n",
    "\n",
    "    js = json.loads(data)\n",
    "    balances = js[\"balances\"]\n",
    "    # print(balances)"
   ]
  },
  {
   "cell_type": "code",
   "execution_count": null,
   "id": "c7ccc073",
   "metadata": {},
   "outputs": [],
   "source": [
    "df = pd.DataFrame.from_dict(balances)\n",
    "df.head()\n",
    "\n",
    "# format and clean data\n",
    "df[\"free\"] = df[\"free\"].transform(lambda x: float(x))\n",
    "df[\"locked\"]=df[\"locked\"].transform(lambda x: float(x))\n",
    "df = df[(df['free'] > 0) | (df['locked'] > 0)]\n",
    "df.head()\n",
    "\n",
    "df[\"price\"]=0.\n",
    "df[\"value\"]=0."
   ]
  },
  {
   "cell_type": "code",
   "execution_count": null,
   "id": "eaff440e",
   "metadata": {},
   "outputs": [],
   "source": [
    "# compute data\n",
    "\n",
    "for asset in df[\"asset\"]:\n",
    "    print(\"asset: \", asset+\"USDT\")\n",
    "    # asset_price = client.get_symbol_ticker(symbol=asset+\"USDT\")\n",
    "    asset_price = -1\n",
    "    try:\n",
    "        response = client.get_symbol_ticker(symbol=asset+\"USDT\")\n",
    "        asset_price = float(response['price'])\n",
    "        df.loc[df['asset'] == asset, 'price'] = asset_price\n",
    "        value = df.loc[df['asset'] == asset, 'value']\n",
    "        value = value + asset_price * df.loc[df['asset'] == asset, 'free']\n",
    "        value = value + asset_price * df.loc[df['asset'] == asset, 'locked']\n",
    "        df.loc[df['asset'] == asset, 'value'] = value\n",
    "        print(df[df['asset'] == asset])\n",
    "    except Exception as berr:\n",
    "        print(\"Binance error: \", berr)"
   ]
  },
  {
   "cell_type": "code",
   "execution_count": null,
   "id": "3e9fc10e",
   "metadata": {},
   "outputs": [],
   "source": [
    "# plot data\n",
    "\n",
    "import plotly.graph_objects as go\n",
    "\n",
    "fig = go.Figure(data=[go.Table(\n",
    "    header={ \"values\":list(df.columns),\n",
    "                \"fill_color\":'paleturquoise',\n",
    "                \"align\":'left'},\n",
    "    cells={\"values\":df.transpose().values.tolist(),\n",
    "               \"fill_color\":'lavender',\n",
    "               \"align\":'left'})\n",
    "])\n",
    "\n",
    "fig.show()"
   ]
  }
 ],
 "metadata": {
  "kernelspec": {
   "display_name": "Python 3 (ipykernel)",
   "language": "python",
   "name": "python3"
  },
  "language_info": {
   "codemirror_mode": {
    "name": "ipython",
    "version": 3
   },
   "file_extension": ".py",
   "mimetype": "text/x-python",
   "name": "python",
   "nbconvert_exporter": "python",
   "pygments_lexer": "ipython3",
   "version": "3.11.2"
  }
 },
 "nbformat": 4,
 "nbformat_minor": 5
}
